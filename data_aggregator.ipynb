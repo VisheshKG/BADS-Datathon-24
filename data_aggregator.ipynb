{
 "cells": [
  {
   "cell_type": "code",
   "execution_count": null,
   "metadata": {},
   "outputs": [
    {
     "ename": "",
     "evalue": "",
     "output_type": "error",
     "traceback": [
      "\u001b[1;31mThe kernel failed to start as 'TypeAliasType' could not be imported from '/Library/Frameworks/Python.framework/Versions/3.10/lib/python3.10/site-packages/typing_extensions.py'.\n",
      "\u001b[1;31mClick <a href='https://aka.ms/kernelFailuresModuleImportErrFromFile'>here</a> for more info."
     ]
    }
   ],
   "source": [
    "import pandas as pd\n",
    "\n",
    "df = pd.read_csv('File')\n"
   ]
  },
  {
   "cell_type": "code",
   "execution_count": null,
   "metadata": {},
   "outputs": [],
   "source": [
    "market_code = 'ATLANT'\n",
    "market_name = 'Atlanta'\n",
    "market_df = df[df['MarketCode'] == market_code]\n",
    "stock_sf = 0\n",
    "aggregate_df = {\n",
    "    'MarketCode': [],\n",
    "    'MarketName': [],\n",
    "    'YearQuarter': [],\n",
    "    'Stock_sf': [],\n",
    "    'Completions_sf': [],\n",
    "    'Stock_under_construction_sf': [],\n",
    "    'under_construction_as_a_percentage_of_stock': []\n",
    "}\n"
   ]
  },
  {
   "cell_type": "code",
   "execution_count": null,
   "metadata": {},
   "outputs": [],
   "source": [
    "for i in range(2024, 2026):\n",
    "    for j in range(1, 5):\n",
    "        current_quarter = str(i) + '.' + str(j)\n",
    "        current_quarter_df = df[df['CompletionYearQuarter'] == current_quarter]\n",
    "        completions_sf = current_quarter_df['Available_sf'].sum()\n",
    "        stock_sf += completions_sf\n",
    "        under_construction_df = df[(df['YearQuarterGroundBroken'].float() <= current_quarter.float()) & (df['CompletionYearQuarter'].float() > current_quarter.float())]\n",
    "        stock_under_construction_sf = under_construction_df['Available_sf'].sum()\n",
    "        construction_sf_percentage = stock_under_construction_sf/stock_sf\n",
    "        new_row = {\n",
    "            'MarketCode': market_code,\n",
    "            'MarketName': market_name,\n",
    "            'YearQuarter': current_quarter,\n",
    "            'Stock_sf': stock_sf,\n",
    "            'Completions_sf': completions_sf,\n",
    "            'Stock_under_construction_sf': stock_under_construction_sf,\n",
    "            'under_construction_as_a_percentage_of_stock': construction_sf_percentage\n",
    "        }\n",
    "        aggregate_df = aggregate_df.append(new_row)\n",
    "\n",
    "print(aggregate_df)        \n",
    "\n",
    "        "
   ]
  },
  {
   "cell_type": "markdown",
   "metadata": {},
   "source": []
  }
 ],
 "metadata": {
  "kernelspec": {
   "display_name": "Python 3",
   "language": "python",
   "name": "python3"
  },
  "language_info": {
   "name": "python",
   "version": "3.10.7"
  }
 },
 "nbformat": 4,
 "nbformat_minor": 2
}
